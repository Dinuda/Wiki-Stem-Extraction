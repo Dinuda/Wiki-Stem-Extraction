{
  "nbformat": 4,
  "nbformat_minor": 0,
  "metadata": {
    "colab": {
      "provenance": [],
      "authorship_tag": "ABX9TyOQXdWygVFGFEZF3sLnzR+y",
      "include_colab_link": true
    },
    "kernelspec": {
      "name": "python3",
      "display_name": "Python 3"
    },
    "language_info": {
      "name": "python"
    }
  },
  "cells": [
    {
      "cell_type": "markdown",
      "metadata": {
        "id": "view-in-github",
        "colab_type": "text"
      },
      "source": [
        "<a href=\"https://colab.research.google.com/github/Dinuda/wiki-stem-extraction/blob/main/extraction.ipynb\" target=\"_parent\"><img src=\"https://colab.research.google.com/assets/colab-badge.svg\" alt=\"Open In Colab\"/></a>"
      ]
    },
    {
      "cell_type": "code",
      "execution_count": 3,
      "metadata": {
        "id": "_fPRkyGIUjXy",
        "colab": {
          "base_uri": "https://localhost:8080/"
        },
        "outputId": "b77f1373-ada6-436c-b239-f105f3c17297"
      },
      "outputs": [
        {
          "output_type": "stream",
          "name": "stdout",
          "text": [
            "Requirement already satisfied: Wikipedia-API in /usr/local/lib/python3.10/dist-packages (0.6.0)\n",
            "Requirement already satisfied: requests in /usr/local/lib/python3.10/dist-packages (from Wikipedia-API) (2.31.0)\n",
            "Requirement already satisfied: charset-normalizer<4,>=2 in /usr/local/lib/python3.10/dist-packages (from requests->Wikipedia-API) (3.3.2)\n",
            "Requirement already satisfied: idna<4,>=2.5 in /usr/local/lib/python3.10/dist-packages (from requests->Wikipedia-API) (3.7)\n",
            "Requirement already satisfied: urllib3<3,>=1.21.1 in /usr/local/lib/python3.10/dist-packages (from requests->Wikipedia-API) (2.0.7)\n",
            "Requirement already satisfied: certifi>=2017.4.17 in /usr/local/lib/python3.10/dist-packages (from requests->Wikipedia-API) (2024.2.2)\n"
          ]
        }
      ],
      "source": [
        "%pip install Wikipedia-API\n",
        "import pandas as pd\n",
        "import json\n",
        "import wikipediaapi\n",
        "import time\n",
        "from requests.exceptions import ReadTimeout\n",
        "from concurrent.futures import ThreadPoolExecutor, as_completed\n",
        "from multiprocessing import cpu_count"
      ]
    },
    {
      "cell_type": "code",
      "source": [
        "import json\n",
        "\n",
        "# Load the URLs from the JSON f|ile\n",
        "with open(\"stem_url_bank-v2.json\", \"r\") as f:\n",
        "    url_bank = json.load(f)\n",
        "\n",
        "# Display the number of URLs\n",
        "print(f\"Number of URLs in the bank: {len(url_bank)}\")\n",
        "\n",
        "try:\n",
        "    with open(\"stem_url_bank-v2.json\", \"r\") as f:\n",
        "        url_bank = json.load(f)\n",
        "except (IOError, json.JSONDecodeError) as e:\n",
        "    print(f\"Error loading JSON file: {e}\")\n",
        "    # Handle the error or exit gracefully\n",
        "    url_bank = []"
      ],
      "metadata": {
        "colab": {
          "base_uri": "https://localhost:8080/"
        },
        "id": "FxyXsj25hDVa",
        "outputId": "26acb017-6f76-4f3b-ce2b-22a501df7c5d"
      },
      "execution_count": 4,
      "outputs": [
        {
          "output_type": "stream",
          "name": "stdout",
          "text": [
            "Number of URLs in the bank: 121683\n"
          ]
        }
      ]
    },
    {
      "cell_type": "code",
      "source": [
        "def fetch_page(url):\n",
        "  title = url.split(\"/\")[-1]\n",
        "\n",
        "  wiki = wikipediaapi.Wikipedia('STEM wiki (ydinuda@gmail.com)', 'en')\n",
        "\n",
        "  page = wiki.page(title)\n",
        "\n",
        "  if not page.exists():\n",
        "    raise ValueError(\"Wikipedia page does not exists\")\n",
        "\n",
        "  def extract_sections(sections):\n",
        "    result = []\n",
        "    for s in sections:\n",
        "        section_info = {\n",
        "            'page_title': title,\n",
        "            'section_title': s.title,\n",
        "            'section_content': s.text\n",
        "        }\n",
        "        result.append(section_info)\n",
        "        result.extend(extract_sections(s.sections))\n",
        "    return result\n",
        "\n",
        "  return extract_sections(page.sections)"
      ],
      "metadata": {
        "id": "--6J7IXA1E_U"
      },
      "execution_count": 7,
      "outputs": []
    },
    {
      "cell_type": "code",
      "source": [
        "import pandas as pd\n",
        "import pyarrow as pa\n",
        "import pyarrow.parquet as pq"
      ],
      "metadata": {
        "id": "S-Lf-evGmGK0"
      },
      "execution_count": 9,
      "outputs": []
    },
    {
      "cell_type": "code",
      "source": [
        "# compute advantage\n",
        "len_url_bank = len(url_bank)\n",
        "\n",
        "wiki_content = []\n",
        "for i, url in enumerate(url_bank[:4]):\n",
        "  url_content = fetch_page(url)\n",
        "  if(url_content):\n",
        "    print(f\"{i} of {len_url_bank} extracted\")\n",
        "    wiki_content.append(url_content)\n",
        "  else:\n",
        "    print(f\"{i} skipped\")\n",
        "\n",
        "# too bored some1 fix this\n",
        "print(wiki_content[0])\n",
        "df = pd.DataFrame(wiki_content[0])\n",
        "output_file = \"wiki_content.parquet\"\n",
        "pq.write_table(pa.Table.from_pandas(df), output_file)\n",
        "print(\"Parquet file created successfully.\")\n"
      ],
      "metadata": {
        "colab": {
          "base_uri": "https://localhost:8080/"
        },
        "id": "rlntGG1Rh4RB",
        "outputId": "e5056473-a69d-41bf-a1ec-1e5816d37ff1"
      },
      "execution_count": 22,
      "outputs": [
        {
          "output_type": "stream",
          "name": "stdout",
          "text": [
            "0 skipped\n",
            "1 of 121683 extracted\n",
            "2 of 121683 extracted\n",
            "3 of 121683 extracted\n",
            "[{'page_title': 'FIPS_140', 'section_title': 'Purpose of FIPS 140', 'section_content': \"The National Institute of Standards and Technology (NIST) issues the 140 Publication Series to coordinate the requirements and standards for cryptographic modules which include both hardware and software components for use by departments and agencies of the United States federal government. FIPS 140 does not purport to provide sufficient conditions to guarantee that a module conforming to its requirements is secure, still less that a system built using such modules is secure. The requirements cover not only the cryptographic modules themselves but also their documentation and (at the highest security level) some aspects of the comments contained in the source code.\\nUser agencies desiring to implement cryptographic modules should confirm that the module they are using is covered by an existing validation certificate. FIPS 140-1 and FIPS 140-2 validation certificates specify the exact module name, hardware, software, firmware, and/or applet version numbers.  For Levels 2 and higher, the operating platform upon which the validation is applicable is also listed.  Vendors do not always maintain their baseline validations.\\nThe Cryptographic Module Validation Program (CMVP) is operated jointly by the United States Government's National Institute of Standards and Technology (NIST) Computer Security Division and the Communications Security Establishment (CSE) of the Government of Canada.  The use of validated cryptographic modules is required by the United States Government for all unclassified uses of cryptography. The Government of Canada also recommends the use of FIPS 140 validated cryptographic modules in unclassified applications of its departments.\"}, {'page_title': 'FIPS_140', 'section_title': 'Security levels', 'section_content': 'FIPS 140-2 defines four levels of security, simply named \"Level 1\" to \"Level 4\". It does not specify in detail what level of security is required by any particular application.\\n\\nFIPS 140-2 Level 1 the lowest, imposes very limited requirements; loosely, all components must be \"production-grade\" and various egregious   kinds of insecurity must be absent.\\nFIPS 140-2 Level 2 adds requirements for physical tamper-evidence and role-based authentication.\\nFIPS 140-2 Level 3  adds requirements for physical tamper-resistance (making it difficult for attackers to gain access to sensitive information contained in the module) and identity-based authentication, and for a physical or logical separation between the interfaces by which \"critical security parameters\" enter and leave the module, and its other interfaces.\\nFIPS 140-2 Level 4 makes the physical security requirements more stringent, and requires robustness against environmental attacks.\\nIn addition to the specified levels, Section 4.1.1 of the specification describes additional attacks that may require mitigation, such as differential power analysis.  If a product contains countermeasures against these attacks, they must be documented and tested, but protections are not required to achieve a given level.  Thus, a criticism of FIPS 140-2 is that the standard gives a false sense of security at Levels 2 and above because the standard implies that modules will be tamper-evident and/or tamper-resistant, yet modules are permitted to have side channel vulnerabilities that allow simple extraction of keys.'}, {'page_title': 'FIPS_140', 'section_title': 'Scope of requirements', 'section_content': 'FIPS 140 imposes requirements in eleven different areas:\\n\\nCryptographic module specification (what must be documented)\\nCryptographic module ports and interfaces (what information flows in and out, and how it must be segregated)\\nRoles, services and authentication (who can do what with the module, and how this is checked)\\nFinite state model (documentation of the high-level states the module can be in, and how transitions occur)\\nPhysical security (tamper evidence and resistance, and robustness against extreme environmental conditions)\\nOperational environment (what sort of operating system the module uses and is used by)\\nCryptographic key management (generation, entry, output, storage and destruction of keys)\\nEMI/EMC\\nSelf-tests (what must be tested and when, and what must be done if a test fails)\\nDesign assurance (what documentation must be provided to demonstrate that the module has been well designed and implemented)\\nMitigation of other attacks (if a module is designed to mitigate against, say, TEMPEST attacks then its documentation must say how)'}, {'page_title': 'FIPS_140', 'section_title': 'Brief history', 'section_content': 'FIPS 140-1, issued on 11 January 1994 and withdrawn on May 25, 2002, was developed by a government and industry working group, composed of vendors and users of cryptographic equipment. The group identified the four \"security levels\" and eleven \"requirement areas\" listed above, and specified requirements for each area at each level.\\nFIPS 140-2, issued on 25 May 2001, takes account of changes in available technology and official standards since 1994, and of comments received from the vendor, tester, and user communities. It was the main input document to the international standard ISO/IEC 19790:2006 Security requirements for cryptographic modules issued on 1 March 2006. NIST issued Special Publication 800-29 outlining the significant changes from FIPS 140-1 to FIPS 140-2.\\nFIPS 140-3, issued on 22 March 2019 and announced in May 2019 is currently in the overlapping transition period to supersede FIPS 140-2 and aligns the NIST guidance around two international standards documents: ISO/IEC 19790:2012(E) Information technology — Security techniques — Security requirements for cryptographic modules and ISO/IEC 24759:2017(E) Information technology — Security techniques — Test requirements for cryptographic modules. In the first draft version of the FIPS 140-3 standard, NIST introduced a new software security section, one additional level of assurance (Level 5) and new Simple Power Analysis (SPA) and Differential Power Analysis (DPA) requirements. The draft issued on 11 Sep 2009, however, reverted to four security levels and limits the security levels of software to levels 1 and 2.'}, {'page_title': 'FIPS_140', 'section_title': 'Criticism', 'section_content': 'Due to the way in which the validation process is set up, a software vendor is required to re-validate their FIPS-validated module for every change, no matter how small, to the software; this re-validation is required even for obvious bug or security fixes. Since validation is an expensive process, this gives software vendors an incentive to postpone changes to their software and can result in software that does not receive security updates until the next validation. The result may be that validated software is less safe than a non-validated equivalent.\\nThis criticism has been countered more recently by some industry experts who instead put the responsibility on the vendor to narrow their validation boundary. As most of the re-validation efforts are triggered by bugs and security fixes outside the core cryptographic operations, a properly scoped validation is not subject to the common re-validation as described.'}, {'page_title': 'FIPS_140', 'section_title': 'See also', 'section_content': 'Common Criteria\\nFIPS 140-2\\nFIPS 140-3\\nISO/IEC 19790\\nCategory: Computer security standards\\nCategory: Cryptography standards'}, {'page_title': 'FIPS_140', 'section_title': 'References', 'section_content': ''}, {'page_title': 'FIPS_140', 'section_title': 'External links', 'section_content': '\"Federal Information Processing Standards (FIPS) Publications\". NIST. 2013-02-05. Retrieved 2013-05-18.\\n\"Validated FIPS 140-1 and FIPS 140-2 Cryptographic Modules\". NIST. 2013-05-17. Archived from the original on 2014-12-26. Retrieved 2013-05-18.'}]\n",
            "Parquet file created successfully.\n"
          ]
        }
      ]
    },
    {
      "cell_type": "code",
      "source": [
        "# Convert the data to a DataFrame\n",
        "print(f\"Shape of the combined DataFrame: {df.shape}\")"
      ],
      "metadata": {
        "colab": {
          "base_uri": "https://localhost:8080/"
        },
        "id": "80LOszau1Sbt",
        "outputId": "9c1e1c21-ad7f-4172-f382-151d7e4ffe28"
      },
      "execution_count": 12,
      "outputs": [
        {
          "output_type": "stream",
          "name": "stdout",
          "text": [
            "Shape of the combined DataFrame: (4, 8)\n"
          ]
        }
      ]
    },
    {
      "cell_type": "code",
      "source": [
        "df.head(3)\n"
      ],
      "metadata": {
        "colab": {
          "base_uri": "https://localhost:8080/",
          "height": 815
        },
        "id": "cDRBn_19PkSS",
        "outputId": "302162a0-810f-4f42-f854-033884d8171a"
      },
      "execution_count": 24,
      "outputs": [
        {
          "output_type": "execute_result",
          "data": {
            "text/plain": [
              "  page_title          section_title  \\\n",
              "0   FIPS_140    Purpose of FIPS 140   \n",
              "1   FIPS_140        Security levels   \n",
              "2   FIPS_140  Scope of requirements   \n",
              "\n",
              "                                     section_content  \n",
              "0  The National Institute of Standards and Techno...  \n",
              "1  FIPS 140-2 defines four levels of security, si...  \n",
              "2  FIPS 140 imposes requirements in eleven differ...  "
            ],
            "text/html": [
              "\n",
              "  <div id=\"df-16ebb00f-b6ae-46f9-9fe3-453f99ee19d6\" class=\"colab-df-container\">\n",
              "    <div>\n",
              "<style scoped>\n",
              "    .dataframe tbody tr th:only-of-type {\n",
              "        vertical-align: middle;\n",
              "    }\n",
              "\n",
              "    .dataframe tbody tr th {\n",
              "        vertical-align: top;\n",
              "    }\n",
              "\n",
              "    .dataframe thead th {\n",
              "        text-align: right;\n",
              "    }\n",
              "</style>\n",
              "<table border=\"1\" class=\"dataframe\">\n",
              "  <thead>\n",
              "    <tr style=\"text-align: right;\">\n",
              "      <th></th>\n",
              "      <th>page_title</th>\n",
              "      <th>section_title</th>\n",
              "      <th>section_content</th>\n",
              "    </tr>\n",
              "  </thead>\n",
              "  <tbody>\n",
              "    <tr>\n",
              "      <th>0</th>\n",
              "      <td>FIPS_140</td>\n",
              "      <td>Purpose of FIPS 140</td>\n",
              "      <td>The National Institute of Standards and Techno...</td>\n",
              "    </tr>\n",
              "    <tr>\n",
              "      <th>1</th>\n",
              "      <td>FIPS_140</td>\n",
              "      <td>Security levels</td>\n",
              "      <td>FIPS 140-2 defines four levels of security, si...</td>\n",
              "    </tr>\n",
              "    <tr>\n",
              "      <th>2</th>\n",
              "      <td>FIPS_140</td>\n",
              "      <td>Scope of requirements</td>\n",
              "      <td>FIPS 140 imposes requirements in eleven differ...</td>\n",
              "    </tr>\n",
              "  </tbody>\n",
              "</table>\n",
              "</div>\n",
              "    <div class=\"colab-df-buttons\">\n",
              "\n",
              "  <div class=\"colab-df-container\">\n",
              "    <button class=\"colab-df-convert\" onclick=\"convertToInteractive('df-16ebb00f-b6ae-46f9-9fe3-453f99ee19d6')\"\n",
              "            title=\"Convert this dataframe to an interactive table.\"\n",
              "            style=\"display:none;\">\n",
              "\n",
              "  <svg xmlns=\"http://www.w3.org/2000/svg\" height=\"24px\" viewBox=\"0 -960 960 960\">\n",
              "    <path d=\"M120-120v-720h720v720H120Zm60-500h600v-160H180v160Zm220 220h160v-160H400v160Zm0 220h160v-160H400v160ZM180-400h160v-160H180v160Zm440 0h160v-160H620v160ZM180-180h160v-160H180v160Zm440 0h160v-160H620v160Z\"/>\n",
              "  </svg>\n",
              "    </button>\n",
              "\n",
              "  <style>\n",
              "    .colab-df-container {\n",
              "      display:flex;\n",
              "      gap: 12px;\n",
              "    }\n",
              "\n",
              "    .colab-df-convert {\n",
              "      background-color: #E8F0FE;\n",
              "      border: none;\n",
              "      border-radius: 50%;\n",
              "      cursor: pointer;\n",
              "      display: none;\n",
              "      fill: #1967D2;\n",
              "      height: 32px;\n",
              "      padding: 0 0 0 0;\n",
              "      width: 32px;\n",
              "    }\n",
              "\n",
              "    .colab-df-convert:hover {\n",
              "      background-color: #E2EBFA;\n",
              "      box-shadow: 0px 1px 2px rgba(60, 64, 67, 0.3), 0px 1px 3px 1px rgba(60, 64, 67, 0.15);\n",
              "      fill: #174EA6;\n",
              "    }\n",
              "\n",
              "    .colab-df-buttons div {\n",
              "      margin-bottom: 4px;\n",
              "    }\n",
              "\n",
              "    [theme=dark] .colab-df-convert {\n",
              "      background-color: #3B4455;\n",
              "      fill: #D2E3FC;\n",
              "    }\n",
              "\n",
              "    [theme=dark] .colab-df-convert:hover {\n",
              "      background-color: #434B5C;\n",
              "      box-shadow: 0px 1px 3px 1px rgba(0, 0, 0, 0.15);\n",
              "      filter: drop-shadow(0px 1px 2px rgba(0, 0, 0, 0.3));\n",
              "      fill: #FFFFFF;\n",
              "    }\n",
              "  </style>\n",
              "\n",
              "    <script>\n",
              "      const buttonEl =\n",
              "        document.querySelector('#df-16ebb00f-b6ae-46f9-9fe3-453f99ee19d6 button.colab-df-convert');\n",
              "      buttonEl.style.display =\n",
              "        google.colab.kernel.accessAllowed ? 'block' : 'none';\n",
              "\n",
              "      async function convertToInteractive(key) {\n",
              "        const element = document.querySelector('#df-16ebb00f-b6ae-46f9-9fe3-453f99ee19d6');\n",
              "        const dataTable =\n",
              "          await google.colab.kernel.invokeFunction('convertToInteractive',\n",
              "                                                    [key], {});\n",
              "        if (!dataTable) return;\n",
              "\n",
              "        const docLinkHtml = 'Like what you see? Visit the ' +\n",
              "          '<a target=\"_blank\" href=https://colab.research.google.com/notebooks/data_table.ipynb>data table notebook</a>'\n",
              "          + ' to learn more about interactive tables.';\n",
              "        element.innerHTML = '';\n",
              "        dataTable['output_type'] = 'display_data';\n",
              "        await google.colab.output.renderOutput(dataTable, element);\n",
              "        const docLink = document.createElement('div');\n",
              "        docLink.innerHTML = docLinkHtml;\n",
              "        element.appendChild(docLink);\n",
              "      }\n",
              "    </script>\n",
              "  </div>\n",
              "\n",
              "\n",
              "<div id=\"df-ffe2c02f-d230-40bc-95f0-f7a1e8c68a6c\">\n",
              "  <button class=\"colab-df-quickchart\" onclick=\"quickchart('df-ffe2c02f-d230-40bc-95f0-f7a1e8c68a6c')\"\n",
              "            title=\"Suggest charts\"\n",
              "            style=\"display:none;\">\n",
              "\n",
              "<svg xmlns=\"http://www.w3.org/2000/svg\" height=\"24px\"viewBox=\"0 0 24 24\"\n",
              "     width=\"24px\">\n",
              "    <g>\n",
              "        <path d=\"M19 3H5c-1.1 0-2 .9-2 2v14c0 1.1.9 2 2 2h14c1.1 0 2-.9 2-2V5c0-1.1-.9-2-2-2zM9 17H7v-7h2v7zm4 0h-2V7h2v10zm4 0h-2v-4h2v4z\"/>\n",
              "    </g>\n",
              "</svg>\n",
              "  </button>\n",
              "\n",
              "<style>\n",
              "  .colab-df-quickchart {\n",
              "      --bg-color: #E8F0FE;\n",
              "      --fill-color: #1967D2;\n",
              "      --hover-bg-color: #E2EBFA;\n",
              "      --hover-fill-color: #174EA6;\n",
              "      --disabled-fill-color: #AAA;\n",
              "      --disabled-bg-color: #DDD;\n",
              "  }\n",
              "\n",
              "  [theme=dark] .colab-df-quickchart {\n",
              "      --bg-color: #3B4455;\n",
              "      --fill-color: #D2E3FC;\n",
              "      --hover-bg-color: #434B5C;\n",
              "      --hover-fill-color: #FFFFFF;\n",
              "      --disabled-bg-color: #3B4455;\n",
              "      --disabled-fill-color: #666;\n",
              "  }\n",
              "\n",
              "  .colab-df-quickchart {\n",
              "    background-color: var(--bg-color);\n",
              "    border: none;\n",
              "    border-radius: 50%;\n",
              "    cursor: pointer;\n",
              "    display: none;\n",
              "    fill: var(--fill-color);\n",
              "    height: 32px;\n",
              "    padding: 0;\n",
              "    width: 32px;\n",
              "  }\n",
              "\n",
              "  .colab-df-quickchart:hover {\n",
              "    background-color: var(--hover-bg-color);\n",
              "    box-shadow: 0 1px 2px rgba(60, 64, 67, 0.3), 0 1px 3px 1px rgba(60, 64, 67, 0.15);\n",
              "    fill: var(--button-hover-fill-color);\n",
              "  }\n",
              "\n",
              "  .colab-df-quickchart-complete:disabled,\n",
              "  .colab-df-quickchart-complete:disabled:hover {\n",
              "    background-color: var(--disabled-bg-color);\n",
              "    fill: var(--disabled-fill-color);\n",
              "    box-shadow: none;\n",
              "  }\n",
              "\n",
              "  .colab-df-spinner {\n",
              "    border: 2px solid var(--fill-color);\n",
              "    border-color: transparent;\n",
              "    border-bottom-color: var(--fill-color);\n",
              "    animation:\n",
              "      spin 1s steps(1) infinite;\n",
              "  }\n",
              "\n",
              "  @keyframes spin {\n",
              "    0% {\n",
              "      border-color: transparent;\n",
              "      border-bottom-color: var(--fill-color);\n",
              "      border-left-color: var(--fill-color);\n",
              "    }\n",
              "    20% {\n",
              "      border-color: transparent;\n",
              "      border-left-color: var(--fill-color);\n",
              "      border-top-color: var(--fill-color);\n",
              "    }\n",
              "    30% {\n",
              "      border-color: transparent;\n",
              "      border-left-color: var(--fill-color);\n",
              "      border-top-color: var(--fill-color);\n",
              "      border-right-color: var(--fill-color);\n",
              "    }\n",
              "    40% {\n",
              "      border-color: transparent;\n",
              "      border-right-color: var(--fill-color);\n",
              "      border-top-color: var(--fill-color);\n",
              "    }\n",
              "    60% {\n",
              "      border-color: transparent;\n",
              "      border-right-color: var(--fill-color);\n",
              "    }\n",
              "    80% {\n",
              "      border-color: transparent;\n",
              "      border-right-color: var(--fill-color);\n",
              "      border-bottom-color: var(--fill-color);\n",
              "    }\n",
              "    90% {\n",
              "      border-color: transparent;\n",
              "      border-bottom-color: var(--fill-color);\n",
              "    }\n",
              "  }\n",
              "</style>\n",
              "\n",
              "  <script>\n",
              "    async function quickchart(key) {\n",
              "      const quickchartButtonEl =\n",
              "        document.querySelector('#' + key + ' button');\n",
              "      quickchartButtonEl.disabled = true;  // To prevent multiple clicks.\n",
              "      quickchartButtonEl.classList.add('colab-df-spinner');\n",
              "      try {\n",
              "        const charts = await google.colab.kernel.invokeFunction(\n",
              "            'suggestCharts', [key], {});\n",
              "      } catch (error) {\n",
              "        console.error('Error during call to suggestCharts:', error);\n",
              "      }\n",
              "      quickchartButtonEl.classList.remove('colab-df-spinner');\n",
              "      quickchartButtonEl.classList.add('colab-df-quickchart-complete');\n",
              "    }\n",
              "    (() => {\n",
              "      let quickchartButtonEl =\n",
              "        document.querySelector('#df-ffe2c02f-d230-40bc-95f0-f7a1e8c68a6c button');\n",
              "      quickchartButtonEl.style.display =\n",
              "        google.colab.kernel.accessAllowed ? 'block' : 'none';\n",
              "    })();\n",
              "  </script>\n",
              "</div>\n",
              "\n",
              "    </div>\n",
              "  </div>\n"
            ],
            "application/vnd.google.colaboratory.intrinsic+json": {
              "type": "dataframe",
              "variable_name": "df",
              "summary": "{\n  \"name\": \"df\",\n  \"rows\": 8,\n  \"fields\": [\n    {\n      \"column\": \"page_title\",\n      \"properties\": {\n        \"dtype\": \"category\",\n        \"num_unique_values\": 1,\n        \"samples\": [\n          \"FIPS_140\"\n        ],\n        \"semantic_type\": \"\",\n        \"description\": \"\"\n      }\n    },\n    {\n      \"column\": \"section_title\",\n      \"properties\": {\n        \"dtype\": \"string\",\n        \"num_unique_values\": 8,\n        \"samples\": [\n          \"Security levels\"\n        ],\n        \"semantic_type\": \"\",\n        \"description\": \"\"\n      }\n    },\n    {\n      \"column\": \"section_content\",\n      \"properties\": {\n        \"dtype\": \"string\",\n        \"num_unique_values\": 8,\n        \"samples\": [\n          \"FIPS 140-2 defines four levels of security, simply named \\\"Level 1\\\" to \\\"Level 4\\\". It does not specify in detail what level of security is required by any particular application.\\n\\nFIPS 140-2 Level 1 the lowest, imposes very limited requirements; loosely, all components must be \\\"production-grade\\\" and various egregious   kinds of insecurity must be absent.\\nFIPS 140-2 Level 2 adds requirements for physical tamper-evidence and role-based authentication.\\nFIPS 140-2 Level 3  adds requirements for physical tamper-resistance (making it difficult for attackers to gain access to sensitive information contained in the module) and identity-based authentication, and for a physical or logical separation between the interfaces by which \\\"critical security parameters\\\" enter and leave the module, and its other interfaces.\\nFIPS 140-2 Level 4 makes the physical security requirements more stringent, and requires robustness against environmental attacks.\\nIn addition to the specified levels, Section 4.1.1 of the specification describes additional attacks that may require mitigation, such as differential power analysis.  If a product contains countermeasures against these attacks, they must be documented and tested, but protections are not required to achieve a given level.  Thus, a criticism of FIPS 140-2 is that the standard gives a false sense of security at Levels 2 and above because the standard implies that modules will be tamper-evident and/or tamper-resistant, yet modules are permitted to have side channel vulnerabilities that allow simple extraction of keys.\"\n        ],\n        \"semantic_type\": \"\",\n        \"description\": \"\"\n      }\n    }\n  ]\n}"
            }
          },
          "metadata": {},
          "execution_count": 24
        }
      ]
    },
    {
      "cell_type": "code",
      "source": [],
      "metadata": {
        "id": "4Bg93qslzgxA"
      },
      "execution_count": null,
      "outputs": []
    }
  ]
}