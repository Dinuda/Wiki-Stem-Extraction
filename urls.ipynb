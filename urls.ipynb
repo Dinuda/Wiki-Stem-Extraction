{
  "nbformat": 4,
  "nbformat_minor": 0,
  "metadata": {
    "colab": {
      "provenance": [],
      "authorship_tag": "ABX9TyMtMBQgS3FqA4LCr8ToVmxz",
      "include_colab_link": true
    },
    "kernelspec": {
      "name": "python3",
      "display_name": "Python 3"
    },
    "language_info": {
      "name": "python"
    }
  },
  "cells": [
    {
      "cell_type": "markdown",
      "metadata": {
        "id": "view-in-github",
        "colab_type": "text"
      },
      "source": [
        "<a href=\"https://colab.research.google.com/github/Dinuda/wiki-stem-extraction/blob/main/urls.ipynb\" target=\"_parent\"><img src=\"https://colab.research.google.com/assets/colab-badge.svg\" alt=\"Open In Colab\"/></a>"
      ]
    },
    {
      "cell_type": "markdown",
      "source": [
        "## Imports"
      ],
      "metadata": {
        "id": "kWk9BtUOLebi"
      }
    },
    {
      "cell_type": "code",
      "execution_count": 1,
      "metadata": {
        "id": "9uH0HFVlJqbC"
      },
      "outputs": [],
      "source": [
        "import os\n",
        "import pandas as pd\n",
        "import numpy as np\n",
        "import random\n",
        "from copy import deepcopy\n",
        "from itertools import chain"
      ]
    },
    {
      "cell_type": "markdown",
      "source": [
        "## Utils\n",
        "\n"
      ],
      "metadata": {
        "id": "_zzrSQbyLjgJ"
      }
    },
    {
      "cell_type": "code",
      "source": [
        "import requests\n",
        "\n",
        "api_base = 'https://en.wikipedia.org/w/api.php'"
      ],
      "metadata": {
        "id": "_O17JLEBJ7pF"
      },
      "execution_count": 51,
      "outputs": []
    },
    {
      "cell_type": "code",
      "source": [
        "def get_category_members(title, cmcontinue=None):\n",
        "  params = {\n",
        "      \"action\": \"query\",\n",
        "      \"format\": \"json\",\n",
        "      \"list\": \"categorymembers\",\n",
        "      \"cmtitle\": title,\n",
        "      \"cmlimit\": \"500\"\n",
        "  }\n",
        "\n",
        "  if cmcontinue:\n",
        "    params[\"cmcontinue\"] = cmcontinue\n",
        "\n",
        "  response = requests.get(api_base, params=params)\n",
        "\n",
        "  return response.json()\n",
        "\n",
        "def get_all_category_members(title, depth=1):\n",
        "\n",
        "  page_urls = []\n",
        "\n",
        "  # check depth of category\n",
        "  if depth < 0:\n",
        "    return page_urls\n",
        "\n",
        "  category_members = get_category_members(title)\n",
        "  while True:\n",
        "    for member in category_members[\"query\"][\"categorymembers\"]:\n",
        "      page_title = member[\"title\"].replace(\" \", \"_\")\n",
        "      page_url = f\"https://en.wikipedia.org/wiki/{page_title}\"\n",
        "\n",
        "      # check if each member is a page or has sub categories\n",
        "      if \"Category:\" in member[\"title\"]:\n",
        "        # fetch recursively\n",
        "        page_urls.extend(get_all_category_members(member[\"title\"], depth=depth-1))\n",
        "      else:\n",
        "        page_urls.append(page_url)\n",
        "\n",
        "    if 'continue' in category_members:\n",
        "      cmcontinue = category_members['continue']['cmcontinue']\n",
        "      category_members = get_category_members(title, cmcontinue)\n",
        "      print(cmcontinue)\n",
        "    else:\n",
        "      break\n",
        "\n",
        "  return page_urls"
      ],
      "metadata": {
        "id": "BqFCctItPO5p"
      },
      "execution_count": 60,
      "outputs": []
    },
    {
      "cell_type": "code",
      "source": [
        "url_bank = set()"
      ],
      "metadata": {
        "id": "tEqrObSlVJNP"
      },
      "execution_count": 61,
      "outputs": []
    },
    {
      "cell_type": "markdown",
      "source": [
        "## Physics"
      ],
      "metadata": {
        "id": "jkF3ALRyBqg_"
      }
    },
    {
      "cell_type": "code",
      "source": [
        "category2depth = {\n",
        "    \"Category:Concepts_in_physics\": 3,\n",
        "    \"Category:Subfields of physics\": 2,\n",
        "    \"Category:Physical_systems\": 2,\n",
        "    \"Category:Physical modeling\": 1,\n",
        "    \"Category:Eponyms_in_physics\": 1\n",
        "}"
      ],
      "metadata": {
        "id": "ixYs6_IbVK2a"
      },
      "execution_count": 75,
      "outputs": []
    },
    {
      "cell_type": "code",
      "source": [
        "%%time\n",
        "url_list = []\n",
        "\n",
        "for cat, depth in category2depth.items():\n",
        "    print(f\"Getting URLs for {cat} with depth {depth}\")\n",
        "    urls = get_all_category_members(cat, depth=depth)\n",
        "    print(f\"# urls extracted = {len(urls)}\")\n",
        "    url_list.append(urls)"
      ],
      "metadata": {
        "colab": {
          "base_uri": "https://localhost:8080/"
        },
        "id": "4B-U0hbDWG4t",
        "outputId": "8706e5fb-c13c-4ab3-84e1-10a7aa89d90c"
      },
      "execution_count": 76,
      "outputs": [
        {
          "output_type": "stream",
          "name": "stdout",
          "text": [
            "Getting URLs for Category:Concepts_in_physics with depth 3\n",
            "# urls extracted = 22431\n",
            "Getting URLs for Category:Subfields of physics with depth 2\n",
            "# urls extracted = 20630\n",
            "Getting URLs for Category:Physical_systems with depth 2\n",
            "# urls extracted = 2206\n",
            "Getting URLs for Category:Physical modeling with depth 1\n",
            "# urls extracted = 124\n",
            "Getting URLs for Category:Eponyms_in_physics with depth 1\n",
            "# urls extracted = 198\n",
            "CPU times: user 1min 23s, sys: 1.34 s, total: 1min 25s\n",
            "Wall time: 2min 40s\n"
          ]
        }
      ]
    },
    {
      "cell_type": "code",
      "source": [
        "physics_urls = list(set(deepcopy(list(chain(*url_list)))))"
      ],
      "metadata": {
        "id": "faKZqKYeWLkG"
      },
      "execution_count": 77,
      "outputs": []
    },
    {
      "cell_type": "code",
      "source": [
        "len(physics_urls)"
      ],
      "metadata": {
        "colab": {
          "base_uri": "https://localhost:8080/"
        },
        "id": "hZzB-Hje6zrH",
        "outputId": "99616216-b23b-4f92-92ed-963ff65d52f1"
      },
      "execution_count": 78,
      "outputs": [
        {
          "output_type": "execute_result",
          "data": {
            "text/plain": [
              "24799"
            ]
          },
          "metadata": {},
          "execution_count": 78
        }
      ]
    },
    {
      "cell_type": "code",
      "source": [
        "url_bank.update(physics_urls)\n",
        "print(f\"size of url bank {len(url_bank)}\")"
      ],
      "metadata": {
        "colab": {
          "base_uri": "https://localhost:8080/"
        },
        "id": "tF5ZvxAh61YI",
        "outputId": "8c01d107-d433-438f-e80c-2731ffa7e5d8"
      },
      "execution_count": 79,
      "outputs": [
        {
          "output_type": "stream",
          "name": "stdout",
          "text": [
            "size of url bank 24799\n"
          ]
        }
      ]
    },
    {
      "cell_type": "code",
      "source": [
        "random.sample(physics_urls, 5)"
      ],
      "metadata": {
        "colab": {
          "base_uri": "https://localhost:8080/"
        },
        "id": "ir5_JTCj7Hzt",
        "outputId": "27e6f6b7-f409-4525-90c8-459106de21fa"
      },
      "execution_count": 80,
      "outputs": [
        {
          "output_type": "execute_result",
          "data": {
            "text/plain": [
              "['https://en.wikipedia.org/wiki/Blood_rain',\n",
              " 'https://en.wikipedia.org/wiki/Piezoresistive_effect',\n",
              " 'https://en.wikipedia.org/wiki/Gauge_gravitation_theory',\n",
              " 'https://en.wikipedia.org/wiki/Rayleigh–Bénard_convection',\n",
              " 'https://en.wikipedia.org/wiki/Ampd_Energy']"
            ]
          },
          "metadata": {},
          "execution_count": 80
        }
      ]
    },
    {
      "cell_type": "markdown",
      "source": [
        "## Chemistry"
      ],
      "metadata": {
        "id": "iIafBoxYBt4o"
      }
    },
    {
      "cell_type": "code",
      "source": [
        "category2depth = {\n",
        "    \"Category:Category:Acid–base chemistry\": 2,\n",
        "    \"Category:Analytical_chemistry\": 2,\n",
        "    \"Category:Astrochemistry\": 2,\n",
        "    \"Category:Atmospheric_chemistry\": 2,\n",
        "\n",
        "    \"Category:Biochemistry\": 2,\n",
        "    \"Category:Chemical_biology\": 2,\n",
        "    \"Category:Chemical_bonding\": 2,\n",
        "    \"Category:Carbohydrate_chemistry\": 2,\n",
        "    \"Category:Chemical_physics\": 2,\n",
        "    \"Category:Cheminformatics\": 2,\n",
        "    \"Category:Chemical_classification\": 2,\n",
        "    \"Category:Chemical_data_pages\": 1,\n",
        "    \"Category:Chemical_energy\": 2,\n",
        "    \"Category:Chemical_engineering\": 2,\n",
        "    \"Category:Environmental_chemistry\": 2,\n",
        "    \"Category:Chemical_equipment\": 2,\n",
        "    \"Category:Chemistry_experiments\": 1,\n",
        "    \"Category:Food_chemistry\": 2,\n",
        "    \"Category:General_chemistry\": 2,\n",
        "    \"Category:Geochemistry\": 2,\n",
        "    \"Category:Green_chemistry\": 2,\n",
        "\n",
        "    \"Category:Chemical_industry\": 1,\n",
        "    \"Category:Inorganic_chemistry\": 2,\n",
        "    \"Category:Laboratory_techniques\": 2,\n",
        "    \"Category:Chemistry-related_lists\": 1,\n",
        "    \"Category:Medicinal_chemistry\": 2,\n",
        "    \"Category:Metallurgy\": 2,\n",
        "    \"Category:Microwave_chemistry\": 1,\n",
        "    \"Category:Chemical_mixtures\": 2,\n",
        "    \"Category:Molecular_physics\": 2,\n",
        "    \"Category:Molecules\": 1, # 2,\n",
        "    \"Category:Chemical_nomenclature\": 1, # 2\n",
        "    \"Category:Nuclear_chemistry\": 2,\n",
        "\n",
        "\n",
        "    \"Category:Organic_chemistry\": 2,\n",
        "    \"Category:Chemistry_organizations\": 1,\n",
        "    \"Category:Photochemistry\": 2,\n",
        "    \"Category:Physical_chemistry\": 2,\n",
        "    \"Category:Chemical_processes\": 2,\n",
        "    \"Category:Chemical_properties\": 2,\n",
        "    \"Category:Chemical_reactions\": 2,\n",
        "    \"Category:Redox\": 2,\n",
        "    \"Category:Chemical_safety\": 2,\n",
        "    \"Category:Separation_processes\": 2,\n",
        "    \"Category:Chemistry_societies\": 1,\n",
        "    \"Category:Chemistry_software\": 2,\n",
        "    \"Category:Solid-state_chemistry\": 2,\n",
        "    \"Category:Stereochemistry\": 2,\n",
        "    \"Category:Stoichiometry\": 2,\n",
        "    \"Category:Chemical_structures\": 1, # 2,\n",
        "    \"Category:Chemical_substances\": 1, # 2,\n",
        "    \"Category:Supramolecular_chemistry\": 2,\n",
        "    \"Category:Chemical_synthesis\": 2,\n",
        "\n",
        "    \"Category:Textile_chemistry\": 2,\n",
        "    \"Category:Theoretical_chemistry\": 2,\n",
        "    \"Category:Chemistry_theories\": 2,\n",
        "    \"Category:Chemical_warfare\": 1,\n",
        "    \"Category:Water_chemistry\": 2,\n",
        "}"
      ],
      "metadata": {
        "id": "mhOSjuqz7L04"
      },
      "execution_count": 81,
      "outputs": []
    },
    {
      "cell_type": "code",
      "source": [
        "%%time\n",
        "url_list = []\n",
        "\n",
        "for cat, depth in category2depth.items():\n",
        "    print(f\"Getting URLs for {cat} with depth {depth}\")\n",
        "    urls = get_all_category_members(cat, depth=depth)\n",
        "    print(f\"# urls extracted = {len(urls)}\")\n",
        "    url_list.append(urls)\n",
        "chemistry_urls = deepcopy(list(chain(*url_list)))\n",
        "chemistry_urls = list(set(chemistry_urls))\n",
        "print(len(chemistry_urls))\n",
        "url_bank.update(chemistry_urls)\n",
        "print(f\"size of URL bank {len(url_bank)}\")\n",
        "random.sample(chemistry_urls, 5)"
      ],
      "metadata": {
        "colab": {
          "base_uri": "https://localhost:8080/"
        },
        "id": "nhAOKUhVAh4x",
        "outputId": "6860025f-8521-4e00-9dfe-87c63b1f4cf3"
      },
      "execution_count": 82,
      "outputs": [
        {
          "output_type": "stream",
          "name": "stdout",
          "text": [
            "Getting URLs for Category:Category:Acid–base chemistry with depth 2\n",
            "# urls extracted = 0\n",
            "Getting URLs for Category:Analytical_chemistry with depth 2\n",
            "# urls extracted = 3221\n",
            "Getting URLs for Category:Astrochemistry with depth 2\n",
            "# urls extracted = 54\n",
            "Getting URLs for Category:Atmospheric_chemistry with depth 2\n",
            "# urls extracted = 27\n",
            "Getting URLs for Category:Biochemistry with depth 2\n",
            "page|484c4636324e50324c464432044c322e324850464c042c011b01dcb1dc|35677227\n",
            "page|4c3248464c50324c0436324432011101dc10|341038\n",
            "page|484c4650323a44042a010d01dcbfdc|5560666\n",
            "page|484c4636324e50324c464432044c322e324850464c042c011b01dcb1dc|35677227\n",
            "page|4c2a2c0f1d010801dcdcdc05|4505175\n",
            "page|4e422a40400444522e403246402a4c044c442a044e44464c300f25011e01dcb7dcdcdcc5dcdcdcdcdc05|11421969\n",
            "page|424c484e0f1a010901dcdcdcdc05|15225375\n",
            "# urls extracted = 16257\n",
            "Getting URLs for Category:Chemical_biology with depth 2\n",
            "# urls extracted = 18\n",
            "Getting URLs for Category:Chemical_bonding with depth 2\n",
            "# urls extracted = 587\n",
            "Getting URLs for Category:Carbohydrate_chemistry with depth 2\n",
            "# urls extracted = 618\n",
            "Getting URLs for Category:Chemical_physics with depth 2\n",
            "# urls extracted = 2518\n",
            "Getting URLs for Category:Cheminformatics with depth 2\n",
            "# urls extracted = 337\n",
            "Getting URLs for Category:Chemical_classification with depth 2\n",
            "page|484c4650323a44042a010d01dcbfdc|5560666\n",
            "# urls extracted = 2238\n",
            "Getting URLs for Category:Chemical_data_pages with depth 1\n",
            "# urls extracted = 155\n",
            "Getting URLs for Category:Chemical_energy with depth 2\n",
            "# urls extracted = 80\n",
            "Getting URLs for Category:Chemical_engineering with depth 2\n",
            "page|4e2e38423a3050044452422c324c011201dc11|2994664\n",
            "page|4e2e38423a3050044452422c324c011201dc11|2994664\n",
            "# urls extracted = 6591\n",
            "Getting URLs for Category:Environmental_chemistry with depth 2\n",
            "# urls extracted = 872\n",
            "Getting URLs for Category:Chemical_equipment with depth 2\n",
            "# urls extracted = 827\n",
            "Getting URLs for Category:Chemistry_experiments with depth 1\n",
            "# urls extracted = 34\n",
            "Getting URLs for Category:Food_chemistry with depth 2\n",
            "# urls extracted = 115\n",
            "Getting URLs for Category:General_chemistry with depth 2\n",
            "# urls extracted = 13\n",
            "Getting URLs for Category:Geochemistry with depth 2\n",
            "# urls extracted = 931\n",
            "Getting URLs for Category:Green_chemistry with depth 2\n",
            "# urls extracted = 23\n",
            "Getting URLs for Category:Chemical_industry with depth 1\n",
            "# urls extracted = 369\n",
            "Getting URLs for Category:Inorganic_chemistry with depth 2\n",
            "page|4e3a4054324c04303a2e384c46422a5032011501dc14|38092738\n",
            "page|2e0f0a380f08460f05010a01dcc5dcc5dc05|23692995\n",
            "page|2e0f0f380f1344460f04010b01dcc5dcc5dcdc05|24152746\n",
            "page|2e0f14380f194446010a01dcc5dcc5dcdc|24424293\n",
            "page|2e0f19380f2544460f04010b01dcc5dcc5dcdc05|33924327\n",
            "# urls extracted = 5591\n",
            "Getting URLs for Category:Laboratory_techniques with depth 2\n",
            "# urls extracted = 4066\n",
            "Getting URLs for Category:Chemistry-related_lists with depth 1\n",
            "# urls extracted = 394\n",
            "Getting URLs for Category:Medicinal_chemistry with depth 2\n",
            "page|46442e464046365a04304c5236042a30543a4e464c5a042e4642423a50503232012401dcbedcc2dcbedc0c|9889337\n",
            "page|46442e464046365a04304c5236042a30543a4e464c5a042e4642423a50503232012401dcbedcc2dcbedc0c|9889337\n",
            "# urls extracted = 4543\n",
            "Getting URLs for Category:Metallurgy with depth 2\n",
            "# urls extracted = 1059\n",
            "Getting URLs for Category:Microwave_chemistry with depth 1\n",
            "# urls extracted = 5\n",
            "Getting URLs for Category:Chemical_mixtures with depth 2\n",
            "# urls extracted = 1719\n",
            "Getting URLs for Category:Molecular_physics with depth 2\n",
            "page|2e0f11380f17440f0546010b01dcc5dcc5dcc5dc|23714218\n",
            "page|2e0f19380f22460f08010a01dcc5dcc5dc05|24145645\n",
            "# urls extracted = 3418\n",
            "Getting URLs for Category:Molecules with depth 1\n",
            "page|2e0f11380f17440f0546010b01dcc5dcc5dcc5dc|23714218\n",
            "page|2e0f19380f22460f08010a01dcc5dcc5dc05|24145645\n",
            "# urls extracted = 1389\n",
            "Getting URLs for Category:Chemical_nomenclature with depth 1\n",
            "page|2e0f04440f10010801dcc5dc05|57433838\n",
            "page|2e0f08380f06098e463809902e464638011001dcc5dcc4dcdcc5dcdcdcdc|22288022\n",
            "page|2e0f0a380f11440f04460f0748010d01dcc5dcc5dcc5dcc5dc|24400491\n",
            "page|2e0f0c380f1a44460f05484e010d01dcc5dcc5dcdcc5dcdc|23432073\n",
            "page|2e0f0f380f16440f0446010b01dcc5dcc5dcc5dc|36791872\n",
            "page|2e0f12380f0f2c4c440f04460f044e010f01dcc5dcc5dcc5dcc5dcc5dc|39314747\n",
            "page|2e0f14380f17440f05460f06010c01dcc5dcc5dcc5dc05|24375999\n",
            "page|2e0f16380f1c2e4044460f05010d01dcc5dcc5dcc5dcdc05|60715524\n",
            "page|2e0f18380f212e40460f05010c01dcc5dcc5dcc5dc05|61259707\n",
            "page|2e0f1b380f24440f06460f04010c01dcc5dcc5dcc5dc05|24397258\n",
            "page|2e0f1f380f2334460f0a010b01dcc5dcc5dcdc05|55062757\n",
            "page|2e0f29380f32440f04460f0b010c01dcc5dcc5dcc5dc05|40758308\n",
            "page|2e2a460f04010801dcc5dc05|16590123\n",
            "page|340f045832010801dcc5dc05|23974011\n",
            "page|4246460f04010801dcc5dc05|33436466\n",
            "page|4e4c4e010701dcc5dc|59469513\n",
            "# urls extracted = 8300\n",
            "Getting URLs for Category:Nuclear_chemistry with depth 2\n",
            "# urls extracted = 5415\n",
            "Getting URLs for Category:Organic_chemistry with depth 2\n",
            "page|2e0f0a380f08460f05010a01dcc5dcc5dc05|23692995\n",
            "page|2e0f0f380f1344460f04010b01dcc5dcc5dcdc05|24152746\n",
            "page|2e0f14380f194446010a01dcc5dcc5dcdc|24424293\n",
            "page|2e0f19380f2544460f04010b01dcc5dcc5dcdc05|33924327\n",
            "page|34524e2a4c3a44010b01dc0a|54078197\n",
            "page|4c050e0f4d502a03064c050e0f4d502a010d01dcc2dcc4dc|4340226\n",
            "page|34524e2a4c3a44010b01dc0a|54078197\n",
            "page|4c050e0f4d502a03064c050e0f4d502a010d01dcc2dcc4dc|4340226\n",
            "# urls extracted = 13848\n",
            "Getting URLs for Category:Chemistry_organizations with depth 1\n",
            "# urls extracted = 224\n",
            "Getting URLs for Category:Photochemistry with depth 2\n",
            "# urls extracted = 370\n",
            "Getting URLs for Category:Physical_chemistry with depth 2\n",
            "# urls extracted = 10264\n",
            "Getting URLs for Category:Chemical_processes with depth 2\n",
            "# urls extracted = 3526\n",
            "Getting URLs for Category:Chemical_properties with depth 2\n",
            "# urls extracted = 915\n",
            "Getting URLs for Category:Chemical_reactions with depth 2\n",
            "page|544644042c4c2a5244044c322a2e503a4644011601dcc3dc11|15198812\n",
            "# urls extracted = 3106\n",
            "Getting URLs for Category:Redox with depth 2\n",
            "# urls extracted = 742\n",
            "Getting URLs for Category:Chemical_safety with depth 2\n",
            "page|423250385a40050e0f13600603050e2c4c464246484c4636324e50324c46443206040f08600603050e03060f08600603050e423250385a40050e0f13600603050e2c4c464246484c4636324e50324c46443201252201dca3dc1e|52621859\n",
            "# urls extracted = 2235\n",
            "Getting URLs for Category:Separation_processes with depth 2\n",
            "# urls extracted = 779\n",
            "Getting URLs for Category:Chemistry_societies with depth 1\n",
            "# urls extracted = 124\n",
            "Getting URLs for Category:Chemistry_software with depth 2\n",
            "# urls extracted = 341\n",
            "Getting URLs for Category:Solid-state_chemistry with depth 2\n",
            "# urls extracted = 2862\n",
            "Getting URLs for Category:Stereochemistry with depth 2\n",
            "page|2e0f0a380f08460f05010a01dcc5dcc5dc05|23692995\n",
            "page|2e0f0f380f1344460f04010b01dcc5dcc5dcdc05|24152746\n",
            "page|2e0f14380f194446010a01dcc5dcc5dcdc|24424293\n",
            "page|2e0f19380f2544460f04010b01dcc5dcc5dcdc05|33924327\n",
            "# urls extracted = 2862\n",
            "Getting URLs for Category:Stoichiometry with depth 2\n",
            "# urls extracted = 22\n",
            "Getting URLs for Category:Chemical_structures with depth 1\n",
            "page|2e0f04440f10010801dcc5dc05|57433838\n",
            "page|2e0f08380f06098e463809902e464638011001dcc5dcc4dcdcc5dcdcdcdc|22288022\n",
            "page|2e0f0a380f11440f04460f0748010d01dcc5dcc5dcc5dcc5dc|24400491\n",
            "page|2e0f0c380f1a44460f05484e010d01dcc5dcc5dcdcc5dcdc|23432073\n",
            "page|2e0f0f380f16440f0446010b01dcc5dcc5dcc5dc|36791872\n",
            "page|2e0f12380f0f2c4c440f04460f044e010f01dcc5dcc5dcc5dcc5dcc5dc|39314747\n",
            "page|2e0f14380f17440f05460f06010c01dcc5dcc5dcc5dc05|24375999\n",
            "page|2e0f16380f1c2e4044460f05010d01dcc5dcc5dcc5dcdc05|60715524\n",
            "page|2e0f18380f212e40460f05010c01dcc5dcc5dcc5dc05|61259707\n",
            "page|2e0f1b380f24440f06460f04010c01dcc5dcc5dcc5dc05|24397258\n",
            "page|2e0f1f380f2334460f0a010b01dcc5dcc5dcdc05|55062757\n",
            "page|2e0f29380f32440f04460f0b010c01dcc5dcc5dcc5dc05|40758308\n",
            "page|2e2a460f04010801dcc5dc05|16590123\n",
            "page|340f045832010801dcc5dc05|23974011\n",
            "page|4246460f04010801dcc5dc05|33436466\n",
            "page|4e4c4e010701dcc5dc|59469513\n",
            "# urls extracted = 8183\n",
            "Getting URLs for Category:Chemical_substances with depth 1\n",
            "# urls extracted = 1300\n",
            "Getting URLs for Category:Supramolecular_chemistry with depth 2\n",
            "# urls extracted = 229\n",
            "Getting URLs for Category:Chemical_synthesis with depth 2\n",
            "# urls extracted = 652\n",
            "Getting URLs for Category:Textile_chemistry with depth 2\n",
            "# urls extracted = 9\n",
            "Getting URLs for Category:Theoretical_chemistry with depth 2\n",
            "# urls extracted = 1928\n",
            "Getting URLs for Category:Chemistry_theories with depth 2\n",
            "# urls extracted = 762\n",
            "Getting URLs for Category:Chemical_warfare with depth 1\n",
            "# urls extracted = 198\n",
            "Getting URLs for Category:Water_chemistry with depth 2\n",
            "# urls extracted = 955\n",
            "CPU times: user 2min 47s, sys: 2.68 s, total: 2min 50s\n",
            "Wall time: 5min 36s\n"
          ]
        }
      ]
    },
    {
      "cell_type": "markdown",
      "source": [
        "## Astronomy"
      ],
      "metadata": {
        "id": "EJLDYLQCBxYi"
      }
    },
    {
      "cell_type": "code",
      "source": [
        "category2depth = {\n",
        "    \"Category:Materials_science\": 2\n",
        "}"
      ],
      "metadata": {
        "id": "X028c-atA7x6"
      },
      "execution_count": 86,
      "outputs": []
    },
    {
      "cell_type": "code",
      "source": [
        "%%time\n",
        "url_list = []\n",
        "\n",
        "for cat, depth in category2depth.items():\n",
        "    print(f\"Getting URLs for {cat} with depth {depth}\")\n",
        "    urls = get_all_category_members(cat, depth=depth)\n",
        "    print(f\"# urls extracted = {len(urls)}\")\n",
        "    url_list.append(urls)\n",
        "\n",
        "astrology_urls = deepcopy(list(chain(*url_list)))\n",
        "astrology_urls = list(set(astrology_urls))\n",
        "print(len(astrology_urls))\n",
        "\n",
        "url_bank.update(astrology_urls)\n",
        "print(f\"size of URL bank {len(url_bank)}\")\n",
        "\n",
        "print(random.sample(astrology_urls, 25))"
      ],
      "metadata": {
        "colab": {
          "base_uri": "https://localhost:8080/"
        },
        "id": "7fWtkK9WB2B_",
        "outputId": "848f50d9-012d-44d2-d1e2-37d079842dab"
      },
      "execution_count": 87,
      "outputs": [
        {
          "output_type": "stream",
          "name": "stdout",
          "text": [
            "Getting URLs for Category:Materials_science with depth 2\n",
            "# urls extracted = 11280\n",
            "7713\n",
            "size of URL bank 80588\n",
            "['https://en.wikipedia.org/wiki/Red_House_Cone', 'https://en.wikipedia.org/wiki/Exact_diagonalization', 'https://en.wikipedia.org/wiki/Flux_(metallurgy)', 'https://en.wikipedia.org/wiki/Antibody_microarray', 'https://en.wikipedia.org/wiki/Wilma_Dierkes', 'https://en.wikipedia.org/wiki/Polymer-protein_hybrid', 'https://en.wikipedia.org/wiki/Rugate_filter', 'https://en.wikipedia.org/wiki/Hardmask', 'https://en.wikipedia.org/wiki/Biomagnetism', 'https://en.wikipedia.org/wiki/Dioxane_tetraketone', 'https://en.wikipedia.org/wiki/Frank_Isakson_Prize', 'https://en.wikipedia.org/wiki/Bromothymol_blue', 'https://en.wikipedia.org/wiki/Secondary_emission', 'https://en.wikipedia.org/wiki/Point_group', 'https://en.wikipedia.org/wiki/Walter_De_Brouwer', 'https://en.wikipedia.org/wiki/Moving_magnet_and_conductor_problem', 'https://en.wikipedia.org/wiki/Nanosocialism', 'https://en.wikipedia.org/wiki/Surface_equivalence_principle', 'https://en.wikipedia.org/wiki/Josephson_effect', 'https://en.wikipedia.org/wiki/Pervaded_volume', 'https://en.wikipedia.org/wiki/SQUID', 'https://en.wikipedia.org/wiki/Magnetic_2D_materials', 'https://en.wikipedia.org/wiki/Pidgeon_process', 'https://en.wikipedia.org/wiki/Zener_pinning', 'https://en.wikipedia.org/wiki/Journal_of_Microelectromechanical_Systems']\n",
            "CPU times: user 18.6 s, sys: 307 ms, total: 18.9 s\n",
            "Wall time: 37 s\n"
          ]
        }
      ]
    },
    {
      "cell_type": "markdown",
      "source": [
        "## Mathematics"
      ],
      "metadata": {
        "id": "n2-K4BWdCJCl"
      }
    },
    {
      "cell_type": "code",
      "source": [
        "category2depth = {\n",
        "    \"Category:Fields_of_mathematics\": 2,\n",
        "    \"Category:Mathematical classification systems\": 2,\n",
        "    \"Category:Mathematical_concepts\": 3,\n",
        "    \"Category:Mathematical_constants\": 2,\n",
        "    \"Category:Mathematical_examples\": 2,\n",
        "    \"Category:Mathematical_notation\": 2,\n",
        "    \"Category:Outlines_of_mathematics_and_logic\": 2,\n",
        "    \"Category:Philosophy_of_mathematics\": 1,\n",
        "    \"Category:Mathematical_proofs\": 2,\n",
        "    \"Category:Mathematical_terminology\": 2,\n",
        "    \"Category:Mathematical_theorems\": 2,\n",
        "    \"Category:Mathematical_tools\": 2,\n",
        "}"
      ],
      "metadata": {
        "id": "XA8TGdewCIZS"
      },
      "execution_count": 89,
      "outputs": []
    },
    {
      "cell_type": "code",
      "source": [
        "%%time\n",
        "url_list = []\n",
        "\n",
        "for cat, depth in category2depth.items():\n",
        "    print(f\"Getting URLs for {cat} with depth {depth}\")\n",
        "    urls = get_all_category_members(cat, depth=depth)\n",
        "    print(f\"# urls extracted = {len(urls)}\")\n",
        "    url_list.append(urls)\n",
        "\n",
        "mathematics_urls = deepcopy(list(chain(*url_list)))\n",
        "mathematics_urls = list(set(mathematics_urls))\n",
        "print(len(mathematics_urls))\n",
        "\n",
        "url_bank.update(mathematics_urls)\n",
        "print(f\"size of URL bank {len(url_bank)}\")\n",
        "\n",
        "print(random.sample(mathematics_urls, 25))"
      ],
      "metadata": {
        "colab": {
          "base_uri": "https://localhost:8080/"
        },
        "id": "DOfIyn7KCOp7",
        "outputId": "9d1c8002-a0fc-448b-95d0-a6ba2a43df03"
      },
      "execution_count": 90,
      "outputs": [
        {
          "output_type": "stream",
          "name": "stdout",
          "text": [
            "Getting URLs for Category:Fields_of_mathematics with depth 2\n",
            "# urls extracted = 25280\n",
            "Getting URLs for Category:Mathematical classification systems with depth 2\n",
            "# urls extracted = 10\n",
            "Getting URLs for Category:Mathematical_concepts with depth 3\n",
            "# urls extracted = 18585\n",
            "Getting URLs for Category:Mathematical_constants with depth 2\n",
            "# urls extracted = 825\n",
            "Getting URLs for Category:Mathematical_examples with depth 2\n",
            "# urls extracted = 8\n",
            "Getting URLs for Category:Mathematical_notation with depth 2\n",
            "# urls extracted = 911\n",
            "Getting URLs for Category:Outlines_of_mathematics_and_logic with depth 2\n",
            "# urls extracted = 45\n",
            "Getting URLs for Category:Philosophy_of_mathematics with depth 1\n",
            "# urls extracted = 524\n",
            "Getting URLs for Category:Mathematical_proofs with depth 2\n",
            "# urls extracted = 1121\n",
            "Getting URLs for Category:Mathematical_terminology with depth 2\n",
            "# urls extracted = 303\n",
            "Getting URLs for Category:Mathematical_theorems with depth 2\n",
            "# urls extracted = 2799\n",
            "Getting URLs for Category:Mathematical_tools with depth 2\n",
            "# urls extracted = 876\n",
            "26045\n",
            "size of URL bank 101839\n",
            "['https://en.wikipedia.org/wiki/Peter_J._Freyd', 'https://en.wikipedia.org/wiki/M-spline', 'https://en.wikipedia.org/wiki/Axial_current', 'https://en.wikipedia.org/wiki/Ulf_Grenander', 'https://en.wikipedia.org/wiki/Stability_of_matter', \"https://en.wikipedia.org/wiki/Fontaine's_period_rings\", 'https://en.wikipedia.org/wiki/Free_convolution', 'https://en.wikipedia.org/wiki/Rosa_Donat', \"https://en.wikipedia.org/wiki/Bernstein's_theorem_(approximation_theory)\", 'https://en.wikipedia.org/wiki/Generating_set_of_a_module', 'https://en.wikipedia.org/wiki/CodonCode_Aligner', \"https://en.wikipedia.org/wiki/Titu's_lemma\", 'https://en.wikipedia.org/wiki/Microcontinuity', 'https://en.wikipedia.org/wiki/Logical_possibility', 'https://en.wikipedia.org/wiki/Dot_density', 'https://en.wikipedia.org/wiki/The_Mathematical_Magpie', 'https://en.wikipedia.org/wiki/Dynamic_aperture_(accelerator_physics)', 'https://en.wikipedia.org/wiki/Combustibility_and_flammability', 'https://en.wikipedia.org/wiki/Group_of_GF(2)-type', 'https://en.wikipedia.org/wiki/Lax-Milgram_lemma', 'https://en.wikipedia.org/wiki/Connection-oriented_Ethernet', 'https://en.wikipedia.org/wiki/Incidence_(geometry)', 'https://en.wikipedia.org/wiki/List_of_exponential_topics', \"https://en.wikipedia.org/wiki/Kachurovskii's_theorem\", 'https://en.wikipedia.org/wiki/Gimel_function']\n",
            "CPU times: user 1min 18s, sys: 1.34 s, total: 1min 20s\n",
            "Wall time: 2min 33s\n"
          ]
        }
      ]
    },
    {
      "cell_type": "markdown",
      "source": [
        "## Technology"
      ],
      "metadata": {
        "id": "lR_TMWvuCZAe"
      }
    },
    {
      "cell_type": "code",
      "source": [
        "category2depth = {\n",
        "    \"Category:Science_and_technology\": 2,\n",
        "    \"Category:Technological_comparisons\": 2,\n",
        "    \"Category:Mobile_technology\": 2,\n",
        "    \"Category:Real-time_technology\": 2,\n",
        "    \"Category:Sociology_of_technology\": 2,\n",
        "    \"Category:Technology_systems\": 2,\n",
        "    \"Category:Technical_specifications\": 2,\n",
        "    \"Category:Technology_assessment\": 2,\n",
        "    \"Category:Technology_education\": 2,\n",
        "    \"Category:Science_and_technology\": 2,\n",
        "    \"Category:Technology_hazards\": 2,\n",
        "    \"Category:Software\": 2,\n",
        "    \"Category:Computing\": 2\n",
        "}"
      ],
      "metadata": {
        "id": "CzHQhXjKCYwF"
      },
      "execution_count": 92,
      "outputs": []
    },
    {
      "cell_type": "code",
      "source": [
        "%%time\n",
        "url_list = []\n",
        "\n",
        "for cat, depth in category2depth.items():\n",
        "    print(f\"Getting URLs for {cat} with depth {depth}\")\n",
        "    urls = get_all_category_members(cat, depth=depth)\n",
        "    print(f\"# urls extracted = {len(urls)}\")\n",
        "    url_list.append(urls)\n",
        "\n",
        "technology_urls = deepcopy(list(chain(*url_list)))\n",
        "technology_urls = list(set(technology_urls))\n",
        "print(len(technology_urls))\n",
        "\n",
        "url_bank.update(technology_urls)\n",
        "print(f\"size of URL bank {len(url_bank)}\")\n",
        "\n",
        "print(random.sample(technology_urls, 25))"
      ],
      "metadata": {
        "colab": {
          "base_uri": "https://localhost:8080/"
        },
        "id": "zEH6vDZ-DmAC",
        "outputId": "b6b5a0e7-716e-4e5c-fcbb-601a13fea0fa"
      },
      "execution_count": 93,
      "outputs": [
        {
          "output_type": "stream",
          "name": "stdout",
          "text": [
            "Getting URLs for Category:Science_and_technology with depth 2\n",
            "# urls extracted = 3526\n",
            "Getting URLs for Category:Technological_comparisons with depth 2\n",
            "# urls extracted = 343\n",
            "Getting URLs for Category:Mobile_technology with depth 2\n",
            "# urls extracted = 2739\n",
            "Getting URLs for Category:Real-time_technology with depth 2\n",
            "# urls extracted = 696\n",
            "Getting URLs for Category:Sociology_of_technology with depth 2\n",
            "# urls extracted = 22\n",
            "Getting URLs for Category:Technology_systems with depth 2\n",
            "# urls extracted = 9714\n",
            "Getting URLs for Category:Technical_specifications with depth 2\n",
            "# urls extracted = 27\n",
            "Getting URLs for Category:Technology_assessment with depth 2\n",
            "# urls extracted = 193\n",
            "Getting URLs for Category:Technology_education with depth 2\n",
            "# urls extracted = 8\n",
            "Getting URLs for Category:Technology_hazards with depth 2\n",
            "# urls extracted = 1760\n",
            "Getting URLs for Category:Software with depth 2\n",
            "page|54324c500858010a01dc09|37679972\n",
            "page|423a2e4c464e463450044e562a5a011201dcbddc07|43997955\n",
            "file|30523e3244523e32420f03503a5040322e2a4c3008363a34011b01dcc3dcc1dc10|47171917\n",
            "file|3a4e402a4430324c4e04362a423248402a5a043a4404484c46364c324e4e083c483601250501dc25|61599990\n",
            "file|4452464404344c3232342a4040040f57b8042a0830083c4836011b01dcdcdcdcc5dcbcdcc5dc08|64067786\n",
            "file|4e3244522a383240402c402a303208484436011601dcc2dc10|69232405\n",
            "file|503a36324c564646304e0f0c4e4e083c4836011501dcc2e0c1dcdc08|22458167\n",
            "# urls extracted = 19008\n",
            "Getting URLs for Category:Computing with depth 2\n",
            "subcat|042e4642485250324c04364c2a48383a2e4e03062e4642485250324c04364c2a48383a2e4e044e50522c4e01250d01c5dcbedcbedc1a|2017202\n",
            "page|562a4050464404364c465248011001e0c0dc08|36900963\n",
            "page|48382a44502a4e5a044e502a4c0452443a54324c4e32011a01dcbedcc2dc0b|2448923\n",
            "page|4e3a4e5032422a040f4e78010d01dc0c|68810760\n",
            "page|4c46504c46443a2e4e04562a342a304c3a5432011701dcbde00c|3027889\n",
            "page|54324c4e3204484c4650462e4640011201dc11|548760\n",
            "subcat|042e4642485250324c04364c2a48383a2e4e03062e4642485250324c04364c2a48383a2e4e044e50522c4e01250d01c5dcbedcbedc1a|2017202\n",
            "# urls extracted = 27518\n",
            "45844\n",
            "size of URL bank 143456\n",
            "['https://en.wikipedia.org/wiki/Pieter_Van_den_Abeele', 'https://en.wikipedia.org/wiki/Digital_mailroom', 'https://en.wikipedia.org/wiki/Libdmc', 'https://en.wikipedia.org/wiki/Signal_strength_in_telecommunications', 'https://en.wikipedia.org/wiki/Public_expenditure_tracking_system', 'https://en.wikipedia.org/wiki/Xyber_9:_New_Dawn', 'https://en.wikipedia.org/wiki/Agent-based_computational_economics', 'https://en.wikipedia.org/wiki/Gonydeal_expansion', 'https://en.wikipedia.org/wiki/Stickies_(Apple)', 'https://en.wikipedia.org/wiki/Do_Not_Fold,_Spindle_or_Mutilate', 'https://en.wikipedia.org/wiki/Apple_Pay', 'https://en.wikipedia.org/wiki/Cardiac_Pacemakers,_Inc.', 'https://en.wikipedia.org/wiki/ECMA-319', 'https://en.wikipedia.org/wiki/Lucky_Logic', 'https://en.wikipedia.org/wiki/Flat_Earth', 'https://en.wikipedia.org/wiki/Cantera_(software)', 'https://en.wikipedia.org/wiki/File:Australia.gov.au_logo.svg', 'https://en.wikipedia.org/wiki/KryoFlux', 'https://en.wikipedia.org/wiki/Nordic_Institute_for_Interoperability_Solutions', 'https://en.wikipedia.org/wiki/Google_App_Engine', 'https://en.wikipedia.org/wiki/Top_50_Influential_Women_in_Engineering', 'https://en.wikipedia.org/wiki/Online_Abuse_Prevention_Initiative', 'https://en.wikipedia.org/wiki/File_verification', 'https://en.wikipedia.org/wiki/Pnputil', 'https://en.wikipedia.org/wiki/Problem_management']\n",
            "CPU times: user 1min 46s, sys: 1.72 s, total: 1min 47s\n",
            "Wall time: 3min 22s\n"
          ]
        }
      ]
    },
    {
      "cell_type": "markdown",
      "source": [
        "## Engineering"
      ],
      "metadata": {
        "id": "4gp8es3cDte8"
      }
    },
    {
      "cell_type": "code",
      "source": [
        "category2depth = {\n",
        "    \"Category:Engineering_disciplines\": 2,\n",
        "    \"Category:Engineering_concepts\": 3,\n",
        "    \"Category:Engineering_equipment\": 2,\n",
        "    \"Category:Industrial_equipment\": 2,\n",
        "    \"Category:Engineering_organizations\": 2,\n",
        "    \"Category:Engineering_projects\": 2,\n",
        "}"
      ],
      "metadata": {
        "id": "l7XkBeERDs6Q"
      },
      "execution_count": 94,
      "outputs": []
    },
    {
      "cell_type": "code",
      "source": [
        "%%time\n",
        "url_list = []\n",
        "\n",
        "for cat, depth in category2depth.items():\n",
        "    print(f\"Getting URLs for {cat} with depth {depth}\")\n",
        "    urls = get_all_category_members(cat, depth=depth)\n",
        "    print(f\"# urls extracted = {len(urls)}\")\n",
        "    url_list.append(urls)\n",
        "\n",
        "engineering_urls = deepcopy(list(chain(*url_list)))\n",
        "engineering_urls = list(set(engineering_urls))\n",
        "print(len(engineering_urls))\n",
        "\n",
        "url_bank.update(engineering_urls)\n",
        "print(f\"size of URL bank {len(url_bank)}\")\n",
        "\n",
        "print(random.sample(engineering_urls, 25))"
      ],
      "metadata": {
        "colab": {
          "base_uri": "https://localhost:8080/"
        },
        "id": "kes0pSEiEJHw",
        "outputId": "8844f803-7f46-40ff-c112-6a539a3a5364"
      },
      "execution_count": 95,
      "outputs": [
        {
          "output_type": "stream",
          "name": "stdout",
          "text": [
            "Getting URLs for Category:Engineering_disciplines with depth 2\n",
            "page|4e2e38423a3050044452422c324c011201dc11|2994664\n",
            "subcat|0f50e503062c523a40303a44364e042a4430044e504c522e50524c324e042e4642484032503230043a44040f50e501250c01c4dc2a|45719511\n",
            "subcat|0f52de03062c523a40303a44364e042a4430044e504c522e50524c324e042e4642484032503230043a44040f52de01250c01c4dc2a|30095415\n",
            "# urls extracted = 41571\n",
            "Getting URLs for Category:Engineering_concepts with depth 3\n",
            "# urls extracted = 572\n",
            "Getting URLs for Category:Engineering_equipment with depth 2\n",
            "# urls extracted = 1843\n",
            "Getting URLs for Category:Industrial_equipment with depth 2\n",
            "# urls extracted = 1692\n",
            "Getting URLs for Category:Engineering_organizations with depth 2\n",
            "# urls extracted = 2469\n",
            "Getting URLs for Category:Engineering_projects with depth 2\n",
            "# urls extracted = 1077\n",
            "33534\n",
            "size of URL bank 160630\n",
            "['https://en.wikipedia.org/wiki/Covariant_transformation', 'https://en.wikipedia.org/wiki/Talent_scheduling', 'https://en.wikipedia.org/wiki/Michael_Beaumont,_22nd_Seigneur_of_Sark', 'https://en.wikipedia.org/wiki/Sinec_H1', 'https://en.wikipedia.org/wiki/Walls_of_Cuéllar', 'https://en.wikipedia.org/wiki/Foaming_agent', 'https://en.wikipedia.org/wiki/Error_vector_magnitude', 'https://en.wikipedia.org/wiki/National_Civic_Art_Society', 'https://en.wikipedia.org/wiki/National_Emergency_Alarm_Repeater', 'https://en.wikipedia.org/wiki/Bainite', 'https://en.wikipedia.org/wiki/Inverter-based_resource', 'https://en.wikipedia.org/wiki/DM3_density_meter', 'https://en.wikipedia.org/wiki/Sustainable_planting', 'https://en.wikipedia.org/wiki/Shelter_from_the_Storm:_A_Concert_for_the_Gulf_Coast', 'https://en.wikipedia.org/wiki/Office_for_Nuclear_Regulation', 'https://en.wikipedia.org/wiki/Air_stripline', 'https://en.wikipedia.org/wiki/Transmitter', 'https://en.wikipedia.org/wiki/Glass_poling', 'https://en.wikipedia.org/wiki/Selectivity_(radio)', 'https://en.wikipedia.org/wiki/No-slip_condition', 'https://en.wikipedia.org/wiki/Charles_Babbage_Premium', 'https://en.wikipedia.org/wiki/Bochka_roof', 'https://en.wikipedia.org/wiki/Land_treatment_unit', 'https://en.wikipedia.org/wiki/Network_forensics', 'https://en.wikipedia.org/wiki/Charles_M._Eastman']\n",
            "CPU times: user 1min 17s, sys: 1.28 s, total: 1min 18s\n",
            "Wall time: 2min 30s\n"
          ]
        }
      ]
    },
    {
      "cell_type": "markdown",
      "source": [
        "## Biology"
      ],
      "metadata": {
        "id": "WREDpM8yEiko"
      }
    },
    {
      "cell_type": "code",
      "source": [
        "category2depth = {\n",
        "    \"Category:Branches_of_biology\": 1,\n",
        "    \"Category:Organisms\": 1,\n",
        "    \"Category:Biotechnology\": 1,\n",
        "    \"Category:Biological_classification\": 1,\n",
        "    \"Category:Biological_concepts\": 3,\n",
        "\n",
        "    \"Category:Biological_interactions\": 1,\n",
        "    \"Category:Biological_processes\": 1,\n",
        "    \"Category:Quantum_biology\": 1,\n",
        "    \"Category:Biological_rules\": 1,\n",
        "    \"Category:Biological_systems\": 1,\n",
        "\n",
        "    \"Category:Biological_techniques_and_tools\": 2,\n",
        "    \"Category:Biology_terminology\": 2,\n",
        "    \"Category:Biological_waste\": 2,\n",
        "}"
      ],
      "metadata": {
        "id": "ebZQvuzUEkCn"
      },
      "execution_count": 97,
      "outputs": []
    },
    {
      "cell_type": "code",
      "source": [
        "%%time\n",
        "url_list = []\n",
        "\n",
        "for cat, depth in category2depth.items():\n",
        "    print(f\"Getting URLs for {cat} with depth {depth}\")\n",
        "    urls = get_all_category_members(cat, depth=depth)\n",
        "    print(f\"# urls extracted = {len(urls)}\")\n",
        "    url_list.append(urls)\n",
        "\n",
        "biology_urls = deepcopy(list(chain(*url_list)))\n",
        "biology_urls = list(set(biology_urls))\n",
        "print(len(biology_urls))\n",
        "\n",
        "url_bank.update(biology_urls)\n",
        "print(f\"size of URL bank {len(url_bank)}\")\n",
        "\n",
        "print(random.sample(biology_urls, 25))"
      ],
      "metadata": {
        "colab": {
          "base_uri": "https://localhost:8080/"
        },
        "id": "t3lfBGozEqg_",
        "outputId": "4833b62b-16d4-4bc7-8327-c9bbad8ce905"
      },
      "execution_count": 98,
      "outputs": [
        {
          "output_type": "stream",
          "name": "stdout",
          "text": [
            "Getting URLs for Category:Branches_of_biology with depth 1\n",
            "page|504c3a2e38464e2e40324c323a30011201dc11|20651551\n",
            "page|4c3248464c50324c0436324432011101dc10|341038\n",
            "# urls extracted = 5720\n",
            "Getting URLs for Category:Organisms with depth 1\n",
            "# urls extracted = 765\n",
            "Getting URLs for Category:Biotechnology with depth 1\n",
            "# urls extracted = 2971\n",
            "Getting URLs for Category:Biological_classification with depth 1\n",
            "# urls extracted = 386\n",
            "Getting URLs for Category:Biological_concepts with depth 3\n",
            "# urls extracted = 12407\n",
            "Getting URLs for Category:Biological_interactions with depth 1\n",
            "# urls extracted = 388\n",
            "Getting URLs for Category:Biological_processes with depth 1\n",
            "# urls extracted = 406\n",
            "Getting URLs for Category:Quantum_biology with depth 1\n",
            "# urls extracted = 16\n",
            "Getting URLs for Category:Biological_rules with depth 1\n",
            "# urls extracted = 25\n",
            "Getting URLs for Category:Biological_systems with depth 1\n",
            "# urls extracted = 148\n",
            "Getting URLs for Category:Biological_techniques_and_tools with depth 2\n",
            "# urls extracted = 2816\n",
            "Getting URLs for Category:Biology_terminology with depth 2\n",
            "subcat|34464046364432060432363a30320306502a582a04442a423230042c5a0432363a3032043446404636443201250d01dcbedcc1dcb9dcc1dc0a|59026941\n",
            "subcat|3e2a443a505c06042a5236524e500306502a582a04442a423230042c5a042a5236524e50043e2a443a505c01250d01dcbfdcc0dcb9dcc0dc09|65441240\n",
            "subcat|422a3844324c5006045446403e324c0306502a582a04442a423230042c5a045446403e324c04422a3844324c5001250f01dcbedcc0dcb9dcc0dc0a|70310442\n",
            "subcat|48524c3e2a5a2a4e50382a06043c2a5a2a303a505a2a0306502a582a04442a423230042c5a043c2a5a2a303a505a2a0448524c3e2a5a2a4e50382a01251d01dcbadcbddcb9dcbddc0e|63935247\n",
            "subcat|4e46303a4c46060440523a4e0306502a582a04442a423230042c5a0440523a4e044e46303a4c4601250901dcbfdcc2dcb9dcc2dc09|76161938\n",
            "# urls extracted = 757\n",
            "Getting URLs for Category:Biological_waste with depth 2\n",
            "# urls extracted = 555\n",
            "18761\n",
            "size of URL bank 174239\n",
            "['https://en.wikipedia.org/wiki/Nidhal_Guessoum', 'https://en.wikipedia.org/wiki/Neomura', 'https://en.wikipedia.org/wiki/HL23V', 'https://en.wikipedia.org/wiki/Clorazepate', 'https://en.wikipedia.org/wiki/Positive-incentive_value', 'https://en.wikipedia.org/wiki/Epidemiology_of_domestic_violence', 'https://en.wikipedia.org/wiki/Rescue_of_Jews_of_Zakynthos', 'https://en.wikipedia.org/wiki/Rolling_hairpin_replication', 'https://en.wikipedia.org/wiki/Know_thyself', 'https://en.wikipedia.org/wiki/Behavioral_Science_&_Policy', 'https://en.wikipedia.org/wiki/Strong_reciprocity', 'https://en.wikipedia.org/wiki/Mental_accounting', 'https://en.wikipedia.org/wiki/Northern_Dispersal', 'https://en.wikipedia.org/wiki/Hypergamy', 'https://en.wikipedia.org/wiki/Social_justice_index', 'https://en.wikipedia.org/wiki/Entitlement', 'https://en.wikipedia.org/wiki/Suchosaurus', 'https://en.wikipedia.org/wiki/DNA_adenine_methyltransferase_identification', 'https://en.wikipedia.org/wiki/Cell-penetrating_peptide', 'https://en.wikipedia.org/wiki/Pick-up_sticks', 'https://en.wikipedia.org/wiki/Safety_behaviors_(anxiety)', 'https://en.wikipedia.org/wiki/Religious_tourism', 'https://en.wikipedia.org/wiki/Macromolecular_docking', 'https://en.wikipedia.org/wiki/Dendrite_(non-neuronal)', 'https://en.wikipedia.org/wiki/Murder_of_Reena_Virk']\n",
            "CPU times: user 40.5 s, sys: 651 ms, total: 41.2 s\n",
            "Wall time: 1min 23s\n"
          ]
        }
      ]
    },
    {
      "cell_type": "markdown",
      "source": [
        "## Environmental Science"
      ],
      "metadata": {
        "id": "WO6iOwlwE3xg"
      }
    },
    {
      "cell_type": "code",
      "source": [
        "category2depth = {\n",
        "    \"Category:Environmental_science\": 2,\n",
        "}"
      ],
      "metadata": {
        "id": "hnQPEljnE6p4"
      },
      "execution_count": 100,
      "outputs": []
    },
    {
      "cell_type": "code",
      "source": [
        "%%time\n",
        "url_list = []\n",
        "\n",
        "for cat, depth in category2depth.items():\n",
        "    print(f\"Getting URLs for {cat} with depth {depth}\")\n",
        "    urls = get_all_category_members(cat, depth=depth)\n",
        "    print(f\"# urls extracted = {len(urls)}\")\n",
        "    url_list.append(urls)\n",
        "\n",
        "env_sci_urls = deepcopy(list(chain(*url_list)))\n",
        "env_sci_urls = list(set(env_sci_urls))\n",
        "print(len(env_sci_urls))\n",
        "\n",
        "url_bank.update(env_sci_urls)\n",
        "print(f\"size of URL bank {len(url_bank)}\")\n",
        "\n",
        "print(random.sample(env_sci_urls, 25))"
      ],
      "metadata": {
        "colab": {
          "base_uri": "https://localhost:8080/"
        },
        "id": "yBmZzkFFE8cX",
        "outputId": "fb54bf43-86fc-4adf-b4c2-a90cb77378e7"
      },
      "execution_count": 101,
      "outputs": [
        {
          "output_type": "stream",
          "name": "stdout",
          "text": [
            "Getting URLs for Category:Environmental_science with depth 2\n",
            "# urls extracted = 7181\n",
            "5977\n",
            "size of URL bank 176970\n",
            "['https://en.wikipedia.org/wiki/Tapinella_panuoides', 'https://en.wikipedia.org/wiki/Epidemiology_of_measles', 'https://en.wikipedia.org/wiki/Living_Planet_Database', 'https://en.wikipedia.org/wiki/Energy_Reduction_Assets', 'https://en.wikipedia.org/wiki/Chernobyl_groundwater_contamination', 'https://en.wikipedia.org/wiki/Naphthalene_poisoning', 'https://en.wikipedia.org/wiki/Soft_water_path', 'https://en.wikipedia.org/wiki/Analytic_element_method', 'https://en.wikipedia.org/wiki/Biocide', 'https://en.wikipedia.org/wiki/Fall_protection', \"https://en.wikipedia.org/wiki/Yolanda's_Law\", 'https://en.wikipedia.org/wiki/Leaving_the_world_a_better_place', 'https://en.wikipedia.org/wiki/Scientific_and_Technical_Centre_for_Building', 'https://en.wikipedia.org/wiki/Epidemic_dropsy', 'https://en.wikipedia.org/wiki/Fixed_bill', 'https://en.wikipedia.org/wiki/Hydrometeorology', 'https://en.wikipedia.org/wiki/Dose-Response', 'https://en.wikipedia.org/wiki/Vector_measuring_current_meter', 'https://en.wikipedia.org/wiki/Human_Microbiome_Project', 'https://en.wikipedia.org/wiki/Polder', 'https://en.wikipedia.org/wiki/Travertine', 'https://en.wikipedia.org/wiki/EPANET', 'https://en.wikipedia.org/wiki/Sustainable_drainage_system', 'https://en.wikipedia.org/wiki/Michael_Oppenheimer', 'https://en.wikipedia.org/wiki/Environmental_Earth_Sciences']\n",
            "CPU times: user 11.3 s, sys: 184 ms, total: 11.5 s\n",
            "Wall time: 23.2 s\n"
          ]
        }
      ]
    },
    {
      "cell_type": "markdown",
      "source": [
        "## Art"
      ],
      "metadata": {
        "id": "7fH5M9qIFgoj"
      }
    },
    {
      "cell_type": "code",
      "source": [
        "category2depth = {\n",
        "    \"Category:Digital art\": 1,\n",
        "}"
      ],
      "metadata": {
        "id": "OAQWb1mSFhr_"
      },
      "execution_count": 103,
      "outputs": []
    },
    {
      "cell_type": "code",
      "source": [
        "%%time\n",
        "url_list = []\n",
        "\n",
        "for cat, depth in category2depth.items():\n",
        "    print(f\"Getting URLs for {cat} with depth {depth}\")\n",
        "    urls = get_all_category_members(cat, depth=depth)\n",
        "    print(f\"# urls extracted = {len(urls)}\")\n",
        "    url_list.append(urls)\n",
        "\n",
        "art_urls = deepcopy(list(chain(*url_list)))\n",
        "art_urls = list(set(art_urls))\n",
        "print(len(art_urls))\n",
        "\n",
        "url_bank.update(art_urls)\n",
        "print(f\"size of URL bank {len(url_bank)}\")\n",
        "\n",
        "print(random.sample(art_urls, 25))"
      ],
      "metadata": {
        "colab": {
          "base_uri": "https://localhost:8080/"
        },
        "id": "ae0MfyYTHkBV",
        "outputId": "f159ed95-bb08-4679-e7ea-024f236d251d"
      },
      "execution_count": 104,
      "outputs": [
        {
          "output_type": "stream",
          "name": "stdout",
          "text": [
            "Getting URLs for Category:Digital art with depth 1\n",
            "# urls extracted = 464\n",
            "412\n",
            "size of URL bank 177295\n",
            "['https://en.wikipedia.org/wiki/Fetch.AI', 'https://en.wikipedia.org/wiki/Media_Scape', 'https://en.wikipedia.org/wiki/Computational_art', 'https://en.wikipedia.org/wiki/Crown_Fountain', 'https://en.wikipedia.org/wiki/Curio_Cards', 'https://en.wikipedia.org/wiki/The_Dream_Weaver', 'https://en.wikipedia.org/wiki/Telegarden', 'https://en.wikipedia.org/wiki/Heart_Beacon', 'https://en.wikipedia.org/wiki/Ixi_lang', 'https://en.wikipedia.org/wiki/Interactive_art', 'https://en.wikipedia.org/wiki/Andy_Lomas', 'https://en.wikipedia.org/wiki/Pixelization', 'https://en.wikipedia.org/wiki/Ars_Mathematica_(organization)', 'https://en.wikipedia.org/wiki/Nathalie_Lawhead', 'https://en.wikipedia.org/wiki/The_Urban_Conga', 'https://en.wikipedia.org/wiki/Programming_(music)', 'https://en.wikipedia.org/wiki/Roche_Musique', 'https://en.wikipedia.org/wiki/Noise_in_music', 'https://en.wikipedia.org/wiki/Tate_Online', 'https://en.wikipedia.org/wiki/Jo-Anne_Green', 'https://en.wikipedia.org/wiki/Internet_aesthetic', 'https://en.wikipedia.org/wiki/Alexandra_Cardenas', 'https://en.wikipedia.org/wiki/Memorial_to_Victims_of_Violence_in_Mexico', 'https://en.wikipedia.org/wiki/Experimental_Television_Center', 'https://en.wikipedia.org/wiki/Digital_graffiti']\n",
            "CPU times: user 896 ms, sys: 15 ms, total: 911 ms\n",
            "Wall time: 1.76 s\n"
          ]
        }
      ]
    },
    {
      "cell_type": "markdown",
      "source": [
        "## Developmental psychology"
      ],
      "metadata": {
        "id": "vnUW7lgDHqjE"
      }
    },
    {
      "cell_type": "code",
      "source": [
        "category2depth = {\n",
        "  \"Category:Developmental psychology\": 2\n",
        "}"
      ],
      "metadata": {
        "id": "jQfQmN7HHu0j"
      },
      "execution_count": 105,
      "outputs": []
    },
    {
      "cell_type": "code",
      "source": [
        "%%time\n",
        "url_list = []\n",
        "\n",
        "for cat, depth in category2depth.items():\n",
        "    print(f\"Getting URLs for {cat} with depth {depth}\")\n",
        "    urls = get_all_category_members(cat, depth=depth)\n",
        "    print(f\"# urls extracted = {len(urls)}\")\n",
        "    url_list.append(urls)\n",
        "\n",
        "developmental_psy_urls = deepcopy(list(chain(*url_list)))\n",
        "art_urls = list(set(developmental_psy_urls))\n",
        "print(len(developmental_psy_urls))\n",
        "\n",
        "url_bank.update(developmental_psy_urls)\n",
        "print(f\"size of URL bank {len(url_bank)}\")\n",
        "\n",
        "print(random.sample(developmental_psy_urls, 25))"
      ],
      "metadata": {
        "colab": {
          "base_uri": "https://localhost:8080/"
        },
        "id": "axXmA07gH-qf",
        "outputId": "66902c51-4a52-4185-a6a7-ab4930aa4586"
      },
      "execution_count": 106,
      "outputs": [
        {
          "output_type": "stream",
          "name": "stdout",
          "text": [
            "Getting URLs for Category:Developmental psychology with depth 2\n",
            "# urls extracted = 1574\n",
            "1574\n",
            "size of URL bank 178496\n",
            "['https://en.wikipedia.org/wiki/Leann_Birch', 'https://en.wikipedia.org/wiki/Odds_and_evens_(hand_game)', 'https://en.wikipedia.org/wiki/Michael_Fordham', 'https://en.wikipedia.org/wiki/Secure_attachment', 'https://en.wikipedia.org/wiki/Critical_period', 'https://en.wikipedia.org/wiki/Charles_Brainerd', 'https://en.wikipedia.org/wiki/Baby_Race_(Bluey)', 'https://en.wikipedia.org/wiki/Server_supported_gaming', 'https://en.wikipedia.org/wiki/Dysacusis', 'https://en.wikipedia.org/wiki/Michael_Rutter', 'https://en.wikipedia.org/wiki/Catherine_McBride', 'https://en.wikipedia.org/wiki/Progressive_jackpot', 'https://en.wikipedia.org/wiki/The_Kid_(book)', 'https://en.wikipedia.org/wiki/Pride_&_Joy_(TV_series)', 'https://en.wikipedia.org/wiki/Rochel_Gelman', 'https://en.wikipedia.org/wiki/Mothering_(magazine)', 'https://en.wikipedia.org/wiki/Epidemiology_of_attention_deficit_hyperactive_disorder', 'https://en.wikipedia.org/wiki/578_Magnum', 'https://en.wikipedia.org/wiki/En_prison', 'https://en.wikipedia.org/wiki/Gambling_ship', 'https://en.wikipedia.org/wiki/Marriage_(card_game)', 'https://en.wikipedia.org/wiki/Contingency_market', 'https://en.wikipedia.org/wiki/Paul_H._Mussen', 'https://en.wikipedia.org/wiki/Supernanny', 'https://en.wikipedia.org/wiki/Daughter_(song)']\n",
            "CPU times: user 3.29 s, sys: 59.5 ms, total: 3.35 s\n",
            "Wall time: 6.47 s\n"
          ]
        }
      ]
    },
    {
      "cell_type": "markdown",
      "source": [
        "## Save"
      ],
      "metadata": {
        "id": "xo7byMjKINpN"
      }
    },
    {
      "cell_type": "code",
      "source": [
        "url_bank = list(url_bank)\n",
        "print(f\"size of URL bank {len(url_bank)}\")"
      ],
      "metadata": {
        "colab": {
          "base_uri": "https://localhost:8080/"
        },
        "id": "dnQuEbV5IOxa",
        "outputId": "043923c1-a925-47b0-bcba-66b84df52e06"
      },
      "execution_count": 107,
      "outputs": [
        {
          "output_type": "stream",
          "name": "stdout",
          "text": [
            "size of URL bank 178496\n"
          ]
        }
      ]
    },
    {
      "cell_type": "code",
      "source": [
        "import json\n",
        "with open(\"stem_url_bank.json\", \"w\") as f:\n",
        "    json.dump(url_bank, f)"
      ],
      "metadata": {
        "id": "9Q1ua9y8IQJ4"
      },
      "execution_count": 108,
      "outputs": []
    },
    {
      "cell_type": "code",
      "source": [],
      "metadata": {
        "id": "Et1V_QxDIeUn"
      },
      "execution_count": null,
      "outputs": []
    }
  ]
}